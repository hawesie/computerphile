{
 "cells": [
  {
   "cell_type": "code",
   "execution_count": 4,
   "metadata": {},
   "outputs": [],
   "source": [
    "import numpy as np"
   ]
  },
  {
   "cell_type": "code",
   "execution_count": 10,
   "metadata": {},
   "outputs": [
    {
     "data": {
      "text/plain": [
       "{'home': 0,\n",
       " 'waiting_room': 1,\n",
       " 'train': 2,\n",
       " 'light_traffic': 3,\n",
       " 'medium_traffic': 4,\n",
       " 'heavy_traffic': 5,\n",
       " 'work': 6}"
      ]
     },
     "execution_count": 10,
     "metadata": {},
     "output_type": "execute_result"
    }
   ],
   "source": [
    "state_labels = [\n",
    "    \"home\",\n",
    "    \"waiting_room\",\n",
    "    \"train\",\n",
    "    \"light_traffic\",\n",
    "    \"medium_traffic\",\n",
    "    \"heavy_traffic\",\n",
    "    \"work\",\n",
    "]\n",
    "states = {a: i for i, a in enumerate(state_labels)}\n",
    "states"
   ]
  },
  {
   "cell_type": "code",
   "execution_count": null,
   "metadata": {},
   "outputs": [
    {
     "data": {
      "text/plain": [
       "{'bike': 0,\n",
       " 'drive': 1,\n",
       " 'relax': 2,\n",
       " 'go_home': 3,\n",
       " 'railway': 4,\n",
       " 'car': 5,\n",
       " 'wait': 6}"
      ]
     },
     "execution_count": 11,
     "metadata": {},
     "output_type": "execute_result"
    }
   ],
   "source": [
    "action_names = [\"bike\", \"drive\", \"relax\", \"go_home\", \"railway\", \"car\", \"wait\"]\n",
    "actions = {a: i for i, a in enumerate(action_names)}\n",
    "actions\n"
   ]
  },
  {
   "cell_type": "code",
   "execution_count": 16,
   "metadata": {},
   "outputs": [
    {
     "data": {
      "text/plain": [
       "array([[0., 0., 0., 0., 0., 0., 1.],\n",
       "       [0., 0., 0., 0., 0., 0., 0.],\n",
       "       [0., 0., 0., 0., 0., 0., 0.],\n",
       "       [0., 0., 0., 0., 0., 0., 0.],\n",
       "       [0., 0., 0., 0., 0., 0., 0.],\n",
       "       [0., 0., 0., 0., 0., 0., 0.],\n",
       "       [0., 0., 0., 0., 0., 0., 0.]])"
      ]
     },
     "execution_count": 16,
     "metadata": {},
     "output_type": "execute_result"
    }
   ],
   "source": [
    "t_bike = np.zeros((len(states),len(states)))\n",
    "t_bike[states['home'], states['work']] = 1\n",
    "t_bike"
   ]
  },
  {
   "cell_type": "code",
   "execution_count": 18,
   "metadata": {},
   "outputs": [],
   "source": [
    "transitions = [None] * len(actions)\n",
    "transitions[actions['bike']] = t_bike"
   ]
  },
  {
   "cell_type": "code",
   "execution_count": null,
   "metadata": {},
   "outputs": [],
   "source": [
    "t_drive = np.zeros((len(states),len(states)))\n",
    "t_drive[states['home'], states['work']] = 1\n",
    "t_drive"
   ]
  }
 ],
 "metadata": {
  "kernelspec": {
   "display_name": "Python 3",
   "language": "python",
   "name": "python3"
  },
  "language_info": {
   "codemirror_mode": {
    "name": "ipython",
    "version": 3
   },
   "file_extension": ".py",
   "mimetype": "text/x-python",
   "name": "python",
   "nbconvert_exporter": "python",
   "pygments_lexer": "ipython3",
   "version": "3.12.5"
  }
 },
 "nbformat": 4,
 "nbformat_minor": 2
}
